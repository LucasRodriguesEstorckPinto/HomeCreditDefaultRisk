{
 "cells": [
  {
   "cell_type": "code",
   "execution_count": 1,
   "id": "aa408707-65de-4b91-b408-5014fe31f0cb",
   "metadata": {},
   "outputs": [],
   "source": [
    "\n",
    "import pandas as pd\n",
    "import numpy as np\n",
    "import matplotlib.pyplot as plt\n",
    "import seaborn as sns\n",
    "from sklearn.model_selection import train_test_split\n",
    "from sklearn.pipeline import Pipeline\n",
    "from sklearn.impute import SimpleImputer\n",
    "from sklearn.preprocessing import StandardScaler, OneHotEncoder\n",
    "from sklearn.compose import ColumnTransformer\n",
    "import lightgbm as lgb # Importando o LightGBM\n",
    "\n",
    "# Carregando o dataset\n",
    "df = pd.read_csv('../data/raw/application_train.csv')\n",
    "\n",
    "# Divisão dos Dados\n",
    "X = df.drop('TARGET', axis=1)\n",
    "y = df['TARGET']\n",
    "X_train, X_test, y_train, y_test = train_test_split(X, y, test_size=0.2, random_state=42, stratify=y)\n",
    "\n",
    "# Recriando o Pré-processador\n",
    "\n",
    "# Identificar colunas numéricas e categóricas\n",
    "numerical_cols = X_train.select_dtypes(include=np.number).columns.tolist()\n",
    "categorical_cols = X_train.select_dtypes('object').columns.tolist()\n",
    "\n",
    "# Criar os pipelines de transformação\n",
    "numeric_transformer = Pipeline(steps=[\n",
    "    ('imputer', SimpleImputer(strategy='median')),\n",
    "    ('scaler', StandardScaler())\n",
    "])\n",
    "\n",
    "categorical_transformer = Pipeline(steps=[\n",
    "    ('imputer', SimpleImputer(strategy='most_frequent')),\n",
    "    ('onehot', OneHotEncoder(handle_unknown='ignore'))\n",
    "])\n",
    "\n",
    "# Juntar tudo no ColumnTransformer\n",
    "preprocessor = ColumnTransformer(\n",
    "    transformers=[\n",
    "        ('num', numeric_transformer, numerical_cols),\n",
    "        ('cat', categorical_transformer, categorical_cols)\n",
    "    ])\n"
   ]
  },
  {
   "cell_type": "code",
   "execution_count": 6,
   "id": "1f2648d9-5a1d-48c4-a7d0-a7c0acf05a6e",
   "metadata": {},
   "outputs": [],
   "source": [
    "from sklearn.model_selection import RandomizedSearchCV\n",
    "\n",
    "# Usamos distribuições para que o RandomizedSearch possa sortear valores\n",
    "param_dist = {\n",
    "    'classifier__n_estimators': [200, 300, 400, 500],\n",
    "    'classifier__learning_rate': [0.01, 0.02, 0.05, 0.1],\n",
    "    'classifier__num_leaves': [20, 31, 40, 50],\n",
    "    'classifier__max_depth': [-1, 5, 10, 15],\n",
    "    'classifier__reg_alpha': [0.1, 0.5, 1],\n",
    "    'classifier__reg_lambda': [0.1, 0.5, 1]\n",
    "}"
   ]
  },
  {
   "cell_type": "code",
   "execution_count": 13,
   "id": "99661da9-143d-4d60-82b5-aba7de3be05f",
   "metadata": {},
   "outputs": [
    {
     "name": "stdout",
     "output_type": "stream",
     "text": [
      "Fitting 3 folds for each of 8 candidates, totalling 24 fits\n"
     ]
    },
    {
     "name": "stderr",
     "output_type": "stream",
     "text": [
      "/Library/Frameworks/Python.framework/Versions/3.12/lib/python3.12/site-packages/sklearn/utils/validation.py:2749: UserWarning: X does not have valid feature names, but LGBMClassifier was fitted with feature names\n",
      "  warnings.warn(\n",
      "/Library/Frameworks/Python.framework/Versions/3.12/lib/python3.12/site-packages/sklearn/utils/validation.py:2749: UserWarning: X does not have valid feature names, but LGBMClassifier was fitted with feature names\n",
      "  warnings.warn(\n",
      "/Library/Frameworks/Python.framework/Versions/3.12/lib/python3.12/site-packages/sklearn/utils/validation.py:2749: UserWarning: X does not have valid feature names, but LGBMClassifier was fitted with feature names\n",
      "  warnings.warn(\n",
      "/Library/Frameworks/Python.framework/Versions/3.12/lib/python3.12/site-packages/sklearn/utils/validation.py:2749: UserWarning: X does not have valid feature names, but LGBMClassifier was fitted with feature names\n",
      "  warnings.warn(\n",
      "/Library/Frameworks/Python.framework/Versions/3.12/lib/python3.12/site-packages/sklearn/utils/validation.py:2749: UserWarning: X does not have valid feature names, but LGBMClassifier was fitted with feature names\n",
      "  warnings.warn(\n",
      "/Library/Frameworks/Python.framework/Versions/3.12/lib/python3.12/site-packages/sklearn/utils/validation.py:2749: UserWarning: X does not have valid feature names, but LGBMClassifier was fitted with feature names\n",
      "  warnings.warn(\n",
      "/Library/Frameworks/Python.framework/Versions/3.12/lib/python3.12/site-packages/sklearn/utils/validation.py:2749: UserWarning: X does not have valid feature names, but LGBMClassifier was fitted with feature names\n",
      "  warnings.warn(\n",
      "/Library/Frameworks/Python.framework/Versions/3.12/lib/python3.12/site-packages/sklearn/utils/validation.py:2749: UserWarning: X does not have valid feature names, but LGBMClassifier was fitted with feature names\n",
      "  warnings.warn(\n",
      "/Library/Frameworks/Python.framework/Versions/3.12/lib/python3.12/site-packages/sklearn/utils/validation.py:2749: UserWarning: X does not have valid feature names, but LGBMClassifier was fitted with feature names\n",
      "  warnings.warn(\n",
      "/Library/Frameworks/Python.framework/Versions/3.12/lib/python3.12/site-packages/sklearn/utils/validation.py:2749: UserWarning: X does not have valid feature names, but LGBMClassifier was fitted with feature names\n",
      "  warnings.warn(\n",
      "/Library/Frameworks/Python.framework/Versions/3.12/lib/python3.12/site-packages/sklearn/utils/validation.py:2749: UserWarning: X does not have valid feature names, but LGBMClassifier was fitted with feature names\n",
      "  warnings.warn(\n",
      "/Library/Frameworks/Python.framework/Versions/3.12/lib/python3.12/site-packages/sklearn/utils/validation.py:2749: UserWarning: X does not have valid feature names, but LGBMClassifier was fitted with feature names\n",
      "  warnings.warn(\n",
      "/Library/Frameworks/Python.framework/Versions/3.12/lib/python3.12/site-packages/sklearn/utils/validation.py:2749: UserWarning: X does not have valid feature names, but LGBMClassifier was fitted with feature names\n",
      "  warnings.warn(\n",
      "/Library/Frameworks/Python.framework/Versions/3.12/lib/python3.12/site-packages/sklearn/utils/validation.py:2749: UserWarning: X does not have valid feature names, but LGBMClassifier was fitted with feature names\n",
      "  warnings.warn(\n",
      "/Library/Frameworks/Python.framework/Versions/3.12/lib/python3.12/site-packages/sklearn/utils/validation.py:2749: UserWarning: X does not have valid feature names, but LGBMClassifier was fitted with feature names\n",
      "  warnings.warn(\n",
      "/Library/Frameworks/Python.framework/Versions/3.12/lib/python3.12/site-packages/sklearn/utils/validation.py:2749: UserWarning: X does not have valid feature names, but LGBMClassifier was fitted with feature names\n",
      "  warnings.warn(\n",
      "/Library/Frameworks/Python.framework/Versions/3.12/lib/python3.12/site-packages/sklearn/utils/validation.py:2749: UserWarning: X does not have valid feature names, but LGBMClassifier was fitted with feature names\n",
      "  warnings.warn(\n",
      "/Library/Frameworks/Python.framework/Versions/3.12/lib/python3.12/site-packages/sklearn/utils/validation.py:2749: UserWarning: X does not have valid feature names, but LGBMClassifier was fitted with feature names\n",
      "  warnings.warn(\n",
      "/Library/Frameworks/Python.framework/Versions/3.12/lib/python3.12/site-packages/sklearn/utils/validation.py:2749: UserWarning: X does not have valid feature names, but LGBMClassifier was fitted with feature names\n",
      "  warnings.warn(\n",
      "/Library/Frameworks/Python.framework/Versions/3.12/lib/python3.12/site-packages/sklearn/utils/validation.py:2749: UserWarning: X does not have valid feature names, but LGBMClassifier was fitted with feature names\n",
      "  warnings.warn(\n"
     ]
    },
    {
     "name": "stdout",
     "output_type": "stream",
     "text": [
      "[LightGBM] [Info] Number of positive: 13240, number of negative: 150766\n",
      "[LightGBM] [Info] Auto-choosing row-wise multi-threading, the overhead of testing was 0.391105 seconds.\n",
      "You can set `force_row_wise=true` to remove the overhead.\n",
      "And if memory is not enough, you can set `force_col_wise=true`.\n",
      "[LightGBM] [Info] Total Bins 11449\n",
      "[LightGBM] [Info] Number of data points in the train set: 164006, number of used features: 233\n",
      "[LightGBM] [Info] [binary:BoostFromScore]: pavg=0.080729 -> initscore=-2.432486\n",
      "[LightGBM] [Info] Start training from score -2.432486\n",
      "[CV] END classifier__learning_rate=0.02, classifier__n_estimators=300, classifier__num_leaves=40; total time=  39.3s\n",
      "[LightGBM] [Info] Number of positive: 13240, number of negative: 150765\n",
      "[LightGBM] [Info] Auto-choosing col-wise multi-threading, the overhead of testing was 0.159638 seconds.\n",
      "You can set `force_col_wise=true` to remove the overhead.\n",
      "[LightGBM] [Info] Total Bins 11423\n",
      "[LightGBM] [Info] Number of data points in the train set: 164005, number of used features: 233\n",
      "[LightGBM] [Info] [binary:BoostFromScore]: pavg=0.080729 -> initscore=-2.432480\n",
      "[LightGBM] [Info] Start training from score -2.432480\n",
      "[CV] END classifier__learning_rate=0.05, classifier__n_estimators=300, classifier__num_leaves=31; total time=  39.0s\n",
      "[LightGBM] [Info] Number of positive: 13240, number of negative: 150766\n",
      "[LightGBM] [Info] Auto-choosing row-wise multi-threading, the overhead of testing was 0.190386 seconds.\n",
      "You can set `force_row_wise=true` to remove the overhead.\n",
      "And if memory is not enough, you can set `force_col_wise=true`.\n",
      "[LightGBM] [Info] Total Bins 11449\n",
      "[LightGBM] [Info] Number of data points in the train set: 164006, number of used features: 233\n",
      "[LightGBM] [Info] [binary:BoostFromScore]: pavg=0.080729 -> initscore=-2.432486\n",
      "[LightGBM] [Info] Start training from score -2.432486\n",
      "[CV] END classifier__learning_rate=0.05, classifier__n_estimators=400, classifier__num_leaves=31; total time=  32.9s\n"
     ]
    },
    {
     "name": "stderr",
     "output_type": "stream",
     "text": [
      "/Library/Frameworks/Python.framework/Versions/3.12/lib/python3.12/site-packages/sklearn/utils/validation.py:2749: UserWarning: X does not have valid feature names, but LGBMClassifier was fitted with feature names\n",
      "  warnings.warn(\n",
      "/Library/Frameworks/Python.framework/Versions/3.12/lib/python3.12/site-packages/sklearn/utils/validation.py:2749: UserWarning: X does not have valid feature names, but LGBMClassifier was fitted with feature names\n",
      "  warnings.warn(\n",
      "/Library/Frameworks/Python.framework/Versions/3.12/lib/python3.12/site-packages/sklearn/utils/validation.py:2749: UserWarning: X does not have valid feature names, but LGBMClassifier was fitted with feature names\n",
      "  warnings.warn(\n"
     ]
    },
    {
     "name": "stdout",
     "output_type": "stream",
     "text": [
      "[LightGBM] [Info] Number of positive: 13240, number of negative: 150766\n",
      "[LightGBM] [Info] Auto-choosing row-wise multi-threading, the overhead of testing was 0.260694 seconds.\n",
      "You can set `force_row_wise=true` to remove the overhead.\n",
      "And if memory is not enough, you can set `force_col_wise=true`.\n",
      "[LightGBM] [Info] Total Bins 11449\n",
      "[LightGBM] [Info] Number of data points in the train set: 164006, number of used features: 233\n",
      "[LightGBM] [Info] [binary:BoostFromScore]: pavg=0.080729 -> initscore=-2.432486\n",
      "[LightGBM] [Info] Start training from score -2.432486\n",
      "[CV] END classifier__learning_rate=0.02, classifier__n_estimators=300, classifier__num_leaves=31; total time=  37.1s\n",
      "[LightGBM] [Info] Number of positive: 13240, number of negative: 150766\n",
      "[LightGBM] [Info] Auto-choosing row-wise multi-threading, the overhead of testing was 0.199095 seconds.\n",
      "You can set `force_row_wise=true` to remove the overhead.\n",
      "And if memory is not enough, you can set `force_col_wise=true`.\n",
      "[LightGBM] [Info] Total Bins 11449\n",
      "[LightGBM] [Info] Number of data points in the train set: 164006, number of used features: 233\n",
      "[LightGBM] [Info] [binary:BoostFromScore]: pavg=0.080729 -> initscore=-2.432486\n",
      "[LightGBM] [Info] Start training from score -2.432486\n",
      "[CV] END classifier__learning_rate=0.02, classifier__n_estimators=400, classifier__num_leaves=40; total time=  45.6s\n",
      "[LightGBM] [Info] Number of positive: 13240, number of negative: 150766\n",
      "[LightGBM] [Info] Auto-choosing row-wise multi-threading, the overhead of testing was 0.240992 seconds.\n",
      "You can set `force_row_wise=true` to remove the overhead.\n",
      "And if memory is not enough, you can set `force_col_wise=true`.\n",
      "[LightGBM] [Info] Total Bins 11449\n",
      "[LightGBM] [Info] Number of data points in the train set: 164006, number of used features: 233\n",
      "[LightGBM] [Info] [binary:BoostFromScore]: pavg=0.080729 -> initscore=-2.432486\n",
      "[LightGBM] [Info] Start training from score -2.432486\n",
      "[CV] END classifier__learning_rate=0.05, classifier__n_estimators=400, classifier__num_leaves=40; total time=  32.1s\n"
     ]
    },
    {
     "name": "stderr",
     "output_type": "stream",
     "text": [
      "/Library/Frameworks/Python.framework/Versions/3.12/lib/python3.12/site-packages/sklearn/utils/validation.py:2749: UserWarning: X does not have valid feature names, but LGBMClassifier was fitted with feature names\n",
      "  warnings.warn(\n"
     ]
    },
    {
     "name": "stdout",
     "output_type": "stream",
     "text": [
      "[LightGBM] [Info] Number of positive: 13240, number of negative: 150765\n",
      "[LightGBM] [Info] Auto-choosing col-wise multi-threading, the overhead of testing was 0.239029 seconds.\n",
      "You can set `force_col_wise=true` to remove the overhead.\n",
      "[LightGBM] [Info] Total Bins 11423\n",
      "[LightGBM] [Info] Number of data points in the train set: 164005, number of used features: 233\n",
      "[LightGBM] [Info] [binary:BoostFromScore]: pavg=0.080729 -> initscore=-2.432480\n",
      "[LightGBM] [Info] Start training from score -2.432480\n",
      "[CV] END classifier__learning_rate=0.02, classifier__n_estimators=300, classifier__num_leaves=40; total time=  46.9s\n",
      "[LightGBM] [Info] Number of positive: 13240, number of negative: 150765\n",
      "[LightGBM] [Info] Auto-choosing row-wise multi-threading, the overhead of testing was 0.181127 seconds.\n",
      "You can set `force_row_wise=true` to remove the overhead.\n",
      "And if memory is not enough, you can set `force_col_wise=true`.\n",
      "[LightGBM] [Info] Total Bins 11441\n",
      "[LightGBM] [Info] Number of data points in the train set: 164005, number of used features: 233\n",
      "[LightGBM] [Info] [binary:BoostFromScore]: pavg=0.080729 -> initscore=-2.432480\n",
      "[LightGBM] [Info] Start training from score -2.432480\n",
      "[CV] END classifier__learning_rate=0.05, classifier__n_estimators=300, classifier__num_leaves=40; total time=  35.6s\n",
      "[LightGBM] [Info] Number of positive: 13240, number of negative: 150765\n",
      "[LightGBM] [Info] Auto-choosing col-wise multi-threading, the overhead of testing was 0.173754 seconds.\n",
      "You can set `force_col_wise=true` to remove the overhead.\n",
      "[LightGBM] [Info] Total Bins 11423\n",
      "[LightGBM] [Info] Number of data points in the train set: 164005, number of used features: 233\n",
      "[LightGBM] [Info] [binary:BoostFromScore]: pavg=0.080729 -> initscore=-2.432480\n",
      "[LightGBM] [Info] Start training from score -2.432480\n",
      "[CV] END classifier__learning_rate=0.05, classifier__n_estimators=400, classifier__num_leaves=40; total time=  34.7s\n",
      "[LightGBM] [Info] Number of positive: 19860, number of negative: 226148\n",
      "[LightGBM] [Info] Auto-choosing row-wise multi-threading, the overhead of testing was 0.036890 seconds.\n",
      "You can set `force_row_wise=true` to remove the overhead.\n",
      "And if memory is not enough, you can set `force_col_wise=true`.\n",
      "[LightGBM] [Info] Total Bins 11507\n",
      "[LightGBM] [Info] Number of data points in the train set: 246008, number of used features: 234\n",
      "[LightGBM] [Info] [binary:BoostFromScore]: pavg=0.080729 -> initscore=-2.432482\n",
      "[LightGBM] [Info] Start training from score -2.432482\n",
      "\n",
      "Busca em grade concluída!\n",
      "Melhor pontuação AUC encontrada na validação: 0.7550\n",
      "Melhores parâmetros encontrados:\n",
      "{'classifier__learning_rate': 0.02, 'classifier__n_estimators': 400, 'classifier__num_leaves': 40}\n"
     ]
    }
   ],
   "source": [
    "from sklearn.model_selection import GridSearchCV\n",
    "\n",
    "# \n",
    "# Se cada parâmetro tiver 2 opções, teremos 2*2*2 = 8 combinações.\n",
    "# Com cv=3, isso significa 8 * 3 = 24 treinamentos.\n",
    "param_grid = {\n",
    "    'classifier__n_estimators': [300, 400],\n",
    "    'classifier__learning_rate': [0.02, 0.05],\n",
    "    'classifier__num_leaves': [31, 40]\n",
    "}\n",
    "\n",
    "\n",
    "# Note que não há 'n_iter', pois ele testará todas as 8 combinações.\n",
    "grid_search = GridSearchCV(\n",
    "    lgbm_pipeline,\n",
    "    param_grid=param_grid,  # O nome do argumento muda para param_grid\n",
    "    scoring='roc_auc',\n",
    "    cv=3,\n",
    "    n_jobs=-1,\n",
    "    verbose=2\n",
    ")\n",
    "\n",
    "grid_search.fit(X_train, y_train)\n",
    "\n",
    "print(\"\\nBusca em grade concluída!\")\n",
    "print(f\"Melhor pontuação AUC encontrada na validação: {grid_search.best_score_:.4f}\")\n",
    "print(\"Melhores parâmetros encontrados:\")\n",
    "print(grid_search.best_params_)"
   ]
  },
  {
   "cell_type": "code",
   "execution_count": 2,
   "id": "30bda8ae-2684-440a-ad9e-781403eb4741",
   "metadata": {},
   "outputs": [],
   "source": [
    "# pipeline com o LightGBM\n",
    "lgbm_pipeline = Pipeline(steps=[\n",
    "    ('preprocessor', preprocessor),\n",
    "    ('classifier', lgb.LGBMClassifier(random_state=42, is_unbalance=True))\n",
    "])"
   ]
  },
  {
   "cell_type": "code",
   "execution_count": 3,
   "id": "df4df082-4124-4b2e-879a-a8d0a92f018f",
   "metadata": {},
   "outputs": [
    {
     "name": "stdout",
     "output_type": "stream",
     "text": [
      "[LightGBM] [Info] Number of positive: 19860, number of negative: 226148\n",
      "[LightGBM] [Info] Auto-choosing row-wise multi-threading, the overhead of testing was 0.035895 seconds.\n",
      "You can set `force_row_wise=true` to remove the overhead.\n",
      "And if memory is not enough, you can set `force_col_wise=true`.\n",
      "[LightGBM] [Info] Total Bins 11507\n",
      "[LightGBM] [Info] Number of data points in the train set: 246008, number of used features: 234\n",
      "[LightGBM] [Info] [binary:BoostFromScore]: pavg=0.080729 -> initscore=-2.432482\n",
      "[LightGBM] [Info] Start training from score -2.432482\n",
      "Treinamento concluído com sucesso!\n"
     ]
    }
   ],
   "source": [
    "lgbm_pipeline.fit(X_train, y_train)\n",
    "print(\"Treinamento concluído com sucesso!\")"
   ]
  },
  {
   "cell_type": "code",
   "execution_count": 5,
   "id": "51264f86-66d7-4559-9eb5-180c8f95c281",
   "metadata": {},
   "outputs": [
    {
     "name": "stderr",
     "output_type": "stream",
     "text": [
      "/Library/Frameworks/Python.framework/Versions/3.12/lib/python3.12/site-packages/sklearn/utils/validation.py:2749: UserWarning: X does not have valid feature names, but LGBMClassifier was fitted with feature names\n",
      "  warnings.warn(\n"
     ]
    },
    {
     "name": "stdout",
     "output_type": "stream",
     "text": [
      "AUC: 0.7599\n"
     ]
    },
    {
     "name": "stderr",
     "output_type": "stream",
     "text": [
      "/Library/Frameworks/Python.framework/Versions/3.12/lib/python3.12/site-packages/sklearn/utils/validation.py:2749: UserWarning: X does not have valid feature names, but LGBMClassifier was fitted with feature names\n",
      "  warnings.warn(\n"
     ]
    },
    {
     "data": {
      "image/png": "[encoded data removed]",
      "text/plain": [
       "<Figure size 640x480 with 2 Axes>"
      ]
     },
     "metadata": {},
     "output_type": "display_data"
    }
   ],
   "source": [
    "from sklearn.metrics import roc_auc_score, confusion_matrix, ConfusionMatrixDisplay\n",
    "\n",
    "# Prever as probabilidades para a AUC\n",
    "# Usamos .predict_proba() para obter a probabilidade de um cliente ser inadimplente (classe 1)\n",
    "y_pred_proba_lgb = lgbm_pipeline.predict_proba(X_test)[:, 1]\n",
    "\n",
    "# Calcular a pontuação AUC\n",
    "# Comparamos as probabilidades previstas com os valores reais (y_test)\n",
    "auc_lgb = roc_auc_score(y_test, y_pred_proba_lgb)\n",
    "\n",
    "# Fazer previsões definitivas para a Matriz de Confusão\n",
    "# Usamos .predict() para obter a decisão final (0 ou 1) do modelo\n",
    "y_pred_lgb = lgbm_pipeline.predict(X_test)\n",
    "\n",
    "# Calcular e Plotar a Matriz de Confusão\n",
    "cm_lgb = confusion_matrix(y_test, y_pred_lgb)\n",
    "disp_lgb = ConfusionMatrixDisplay(confusion_matrix=cm_lgb)\n",
    "\n",
    "print(f\"AUC: {auc_lgb:.4f}\")\n",
    "\n",
    "# Plotando a Matriz\n",
    "disp_lgb.plot(cmap=plt.cm.Blues)\n",
    "plt.title('Matriz de Confusão - LightGBM')\n",
    "plt.grid(False)\n",
    "plt.show()"
   ]
  },
  {
   "cell_type": "code",
   "execution_count": 15,
   "id": "0bcee243-065c-4d22-a3f2-77a63697af7b",
   "metadata": {
    "scrolled": true
   },
   "outputs": [
    {
     "name": "stdout",
     "output_type": "stream",
     "text": [
      "Avaliando o modelo otimizado (GridSearch) no conjunto de teste...\n"
     ]
    },
    {
     "name": "stderr",
     "output_type": "stream",
     "text": [
      "/Library/Frameworks/Python.framework/Versions/3.12/lib/python3.12/site-packages/sklearn/utils/validation.py:2749: UserWarning: X does not have valid feature names, but LGBMClassifier was fitted with feature names\n",
      "  warnings.warn(\n",
      "/Library/Frameworks/Python.framework/Versions/3.12/lib/python3.12/site-packages/sklearn/utils/validation.py:2749: UserWarning: X does not have valid feature names, but LGBMClassifier was fitted with feature names\n",
      "  warnings.warn(\n"
     ]
    },
    {
     "name": "stdout",
     "output_type": "stream",
     "text": [
      "\n",
      "==================================================\n",
      "Resultados Finais do Modelo Otimizado (GridSearch):\n",
      "AUC: 0.7606\n",
      "==================================================\n",
      "\n"
     ]
    },
    {
     "data": {
      "image/png": "[encoded data removed]",
      "text/plain": [
       "<Figure size 640x480 with 2 Axes>"
      ]
     },
     "metadata": {},
     "output_type": "display_data"
    }
   ],
   "source": [
    "from sklearn.metrics import roc_auc_score, confusion_matrix, ConfusionMatrixDisplay\n",
    "\n",
    "# Usar o melhor modelo encontrado pelo grid_search para prever\n",
    "print(\"Avaliando o modelo otimizado (GridSearch) no conjunto de teste...\")\n",
    "\n",
    "# Prever as probabilidades para a AUC\n",
    "y_pred_proba_gs = grid_search.predict_proba(X_test)[:, 1]\n",
    "\n",
    "# Prever as decisões finais para a Matriz de Confusão\n",
    "y_pred_gs = grid_search.predict(X_test)\n",
    "\n",
    "# Calcular a nova AUC e a nova Matriz de Confusão\n",
    "auc_gs = roc_auc_score(y_test, y_pred_proba_gs)\n",
    "cm_gs = confusion_matrix(y_test, y_pred_gs)\n",
    "disp_gs = ConfusionMatrixDisplay(confusion_matrix=cm_gs)\n",
    "\n",
    "# --- Exibindo os Resultados Finais ---\n",
    "print(\"\\n\" + \"=\"*50)\n",
    "print(\"Resultados Finais do Modelo Otimizado (GridSearch):\")\n",
    "print(f\"AUC: {auc_gs:.4f}\")\n",
    "print(\"=\"*50 + \"\\n\")\n",
    "\n",
    "# Plotando a Matriz de Confusão do melhor modelo\n",
    "disp_gs.plot(cmap=plt.cm.Blues)\n",
    "plt.title('Matriz de Confusão - LightGBM (GridSearch)')\n",
    "plt.grid(False)\n",
    "plt.show()"
   ]
  },
  {
   "cell_type": "code",
   "execution_count": null,
   "id": "d3dba405-bfd5-4c34-b93c-8d6c68eb2257",
   "metadata": {},
   "outputs": [],
   "source": []
  },
  {
   "cell_type": "code",
   "execution_count": null,
   "id": "26f057fb-ce82-4b55-aa19-8ca4a1ae5a7c",
   "metadata": {},
   "outputs": [],
   "source": []
  }
 ],
 "metadata": {
  "kernelspec": {
   "display_name": "Python 3 (ipykernel)",
   "language": "python",
   "name": "python3"
  },
  "language_info": {
   "codemirror_mode": {
    "name": "ipython",
    "version": 3
   },
   "file_extension": ".py",
   "mimetype": "text/x-python",
   "name": "python",
   "nbconvert_exporter": "python",
   "pygments_lexer": "ipython3",
   "version": "3.12.3"
  }
 },
 "nbformat": 4,
 "nbformat_minor": 5
}
