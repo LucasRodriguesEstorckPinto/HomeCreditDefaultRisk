{
 "cells": [
  {
   "cell_type": "code",
   "execution_count": 36,
   "id": "8f995b86-031d-4431-b51b-f765d568f102",
   "metadata": {},
   "outputs": [],
   "source": [
    "#carregando os arquivos\n",
    "\n",
    "import pandas as pd\n",
    "import numpy as np\n",
    "import matplotlib.pyplot as plt\n",
    "from sklearn.pipeline import Pipeline\n",
    "from sklearn.impute import SimpleImputer\n",
    "from sklearn.preprocessing import StandardScaler\n",
    "from sklearn.model_selection import train_test_split\n",
    "from sklearn.preprocessing import OneHotEncoder\n",
    "from sklearn.compose import ColumnTransformer\n",
    "from sklearn.linear_model import LogisticRegression\n",
    "\n",
    "# Carregando o dataset original\n",
    "df = pd.read_csv('../data/raw/application_train.csv')"
   ]
  },
  {
   "cell_type": "code",
   "execution_count": 12,
   "id": "d7346f0c-f1b3-4a16-9142-1890df0ba58f",
   "metadata": {},
   "outputs": [
    {
     "name": "stdout",
     "output_type": "stream",
     "text": [
      "Formato dos dados de treino: (246008, 121)\n",
      "Formato dos dados de teste: (61503, 121)\n"
     ]
    }
   ],
   "source": [
    "\n",
    "\n",
    "#separando as features x e o alvo y\n",
    "\n",
    "X = df.drop('TARGET', axis=1)\n",
    "y = df['TARGET']\n",
    "\n",
    "#dividindo entre treino e teste (80% para treino e 20% para teste)\n",
    "X_train, X_test, y_train, y_test = train_test_split(X, y, test_size=0.2, random_state=42, stratify=y)\n",
    "\n",
    "print(\"Formato dos dados de treino:\", X_train.shape)\n",
    "print(\"Formato dos dados de teste:\", X_test.shape)"
   ]
  },
  {
   "cell_type": "code",
   "execution_count": 13,
   "id": "a8227b23-5c3a-490a-82c4-a223f549f14e",
   "metadata": {},
   "outputs": [],
   "source": [
    "#Selecionando as colunas do tipo object\n",
    "\n",
    "categorical_cols = X_train.select_dtypes('object').columns.tolist()\n",
    "numerical_cols = X_train.select_dtypes(include=np.number).columns.tolist()\n"
   ]
  },
  {
   "cell_type": "code",
   "execution_count": 14,
   "id": "abbb4566-fd47-4e6c-a568-43cfb4906947",
   "metadata": {},
   "outputs": [],
   "source": [
    "#pipiline para dados\n",
    "\n",
    "#Para colunas numéricas\n",
    "numeric_transformer = Pipeline(steps= [\n",
    "    ('imputer', SimpleImputer(strategy='median')),\n",
    "    ('scaler', StandardScaler())\n",
    "])"
   ]
  },
  {
   "cell_type": "code",
   "execution_count": 15,
   "id": "30908967-19ae-435d-be92-276d02bc5cb3",
   "metadata": {},
   "outputs": [],
   "source": [
    "#pipeline para colunas categóricas\n",
    "\n",
    "categorical_transformer = Pipeline(steps=[\n",
    "    ('imputer', SimpleImputer(strategy='most_frequent')),\n",
    "    ('onehot', OneHotEncoder(handle_unknown='ignore'))\n",
    "])"
   ]
  },
  {
   "cell_type": "code",
   "execution_count": 19,
   "id": "2d998c02-b563-4213-be64-8df4c2b25540",
   "metadata": {},
   "outputs": [],
   "source": [
    "#Aplicando o pipeline correto em cada tipo de coluna\n",
    "\n",
    "preprocessor = ColumnTransformer(\n",
    "    transformers= [\n",
    "        ('num', numeric_transformer, numerical_cols),\n",
    "        ('cat', categorical_transformer, categorical_cols)\n",
    "        \n",
    "    ])"
   ]
  },
  {
   "cell_type": "code",
   "execution_count": 26,
   "id": "c7d48a14-437b-424b-819e-6973ef8dea1d",
   "metadata": {},
   "outputs": [],
   "source": [
    "#vamos usar a regressão logística para nivelar por baixo\n",
    "full_pipeline = Pipeline(steps=[\n",
    "    ('preprocessor', preprocessor),\n",
    "    ('classifier', LogisticRegression(random_state=42, class_weight='balanced', max_iter=1000))\n",
    "])"
   ]
  },
  {
   "cell_type": "code",
   "execution_count": 27,
   "id": "c142e16d-e663-49eb-9f3f-c254bbab13fd",
   "metadata": {},
   "outputs": [
    {
     "name": "stdout",
     "output_type": "stream",
     "text": [
      "Treinamento feito\n"
     ]
    }
   ],
   "source": [
    "#treinando o pipeline\n",
    "\n",
    "full_pipeline.fit(X_train, y_train)\n",
    "print('Treinamento feito')"
   ]
  },
  {
   "cell_type": "raw",
   "id": "75078b3b-d867-4e01-a244-e6c6b068bf8c",
   "metadata": {},
   "source": [
    "Acuracia é uma métrica ruim. Um modelo \"preguiçoso\" que previsse \"0\" para todo mundo teria 92% de acurácia, mas seria completamente inútil para o banco. O AUC aparenta ser uma métrica melhor, que é o padrão da indústria de análise de risco de crédito. Chegar o mais próximo de 1.0 é o objetivo."
   ]
  },
  {
   "cell_type": "code",
   "execution_count": 29,
   "id": "85ef102f-7ff4-4b34-9ae9-92ceafbbdc7d",
   "metadata": {},
   "outputs": [
    {
     "name": "stdout",
     "output_type": "stream",
     "text": [
      "O desempenho do nosso modelo de baseline (Regressão Logística) é:\n",
      "AUC: 0.7487\n"
     ]
    }
   ],
   "source": [
    "from sklearn.metrics import roc_auc_score, roc_curve, confusion_matrix, ConfusionMatrixDisplay\n",
    "\n",
    "# Queremos a probabilidade da classe positiva (1 - inadimplente)\n",
    "y_pred_proba = full_pipeline.predict_proba(X_test)[:, 1]\n",
    "\n",
    "# Calcular a métrica AUC\n",
    "auc = roc_auc_score(y_test, y_pred_proba)\n",
    "\n",
    "print(f\"O desempenho do nosso modelo de baseline (Regressão Logística) é:\")\n",
    "print(f\"AUC: {auc:.4f}\")"
   ]
  },
  {
   "cell_type": "raw",
   "id": "df7deafd-69ed-4761-ac85-0e3b95178315",
   "metadata": {},
   "source": [
    "Observe que, um falso negativo, ou seja, o modelo prever que um cliente irá pagar (0), mas na verdade ele se torna inadimplente (1), é um erro muito mais caro do que o contrário. Então minimizar o número de falsos negativos é essencial para um modelo de crédito. Vamos criar uma matriz de confusão."
   ]
  },
  {
   "cell_type": "code",
   "execution_count": 38,
   "id": "7119446f-33a0-4a7a-99e2-7a8c4fb84780",
   "metadata": {},
   "outputs": [
    {
     "data": {
      "image/png": "[encoded data removed]",
      "text/plain": [
       "<Figure size 640x480 with 2 Axes>"
      ]
     },
     "metadata": {},
     "output_type": "display_data"
    }
   ],
   "source": [
    "# previsões definitivas (0 ou 1) no conjunto de teste\n",
    "y_pred = full_pipeline.predict(X_test)\n",
    "\n",
    "#matriz de confusão\n",
    "cm = confusion_matrix(y_test, y_pred)\n",
    "\n",
    "#Plotando\n",
    "disp = ConfusionMatrixDisplay(confusion_matrix=cm, display_labels=[0, 1])\n",
    "disp.plot(cmap=plt.cm.Blues)\n",
    "plt.title(\"Matriz de confusão - Regressão Logística\")\n",
    "plt.grid(False)\n",
    "plt.show()"
   ]
  },
  {
   "cell_type": "raw",
   "id": "eda0c51c-9798-4478-8b47-ff7a58e8fd73",
   "metadata": {},
   "source": [
    "Observe que o modelo previu 1592 falso negativos, o erro mais caro do banco."
   ]
  },
  {
   "cell_type": "raw",
   "id": "0e2ea322-d73e-4ab8-8947-8c6813fbce42",
   "metadata": {},
   "source": [
    "Nosso primeiro modelo, a Regressão Logística, nos deu uma AUC de ~0.74 (um resultado decente) e conseguiu identificar 3373 casos de risco. No entanto, ele ainda é muito \"conservador\", errando ao prever que 1592 clientes de alto risco eram seguros.\n",
    "\n",
    "Agora temos uma \"nota de corte\" clara. Nosso objetivo com um modelo mais avançado será, principalmente, diminuir esse número de 1592, ou seja, reduzir os Falsos Negativos, mesmo que isso signifique aumentar um pouco os Falsos Positivos.\n",
    "\n"
   ]
  },
  {
   "cell_type": "code",
   "execution_count": null,
   "id": "998e3aa4-d62d-4a12-85c4-50844b83f726",
   "metadata": {},
   "outputs": [],
   "source": []
  }
 ],
 "metadata": {
  "kernelspec": {
   "display_name": "Python 3 (ipykernel)",
   "language": "python",
   "name": "python3"
  },
  "language_info": {
   "codemirror_mode": {
    "name": "ipython",
    "version": 3
   },
   "file_extension": ".py",
   "mimetype": "text/x-python",
   "name": "python",
   "nbconvert_exporter": "python",
   "pygments_lexer": "ipython3",
   "version": "3.12.3"
  }
 },
 "nbformat": 4,
 "nbformat_minor": 5
}
